{
 "cells": [
  {
   "cell_type": "markdown",
   "metadata": {},
   "source": [
    "# Geonames.org Reference Data"
   ]
  },
  {
   "cell_type": "code",
   "execution_count": 24,
   "metadata": {},
   "outputs": [],
   "source": [
    "from datetime import datetime\n",
    "from os import environ\n",
    "import re\n",
    "from tempfile import TemporaryDirectory\n",
    "import urllib\n",
    "from zipfile import ZipFile\n",
    "\n",
    "import numpy as np\n",
    "import pandas as pd\n",
    "import requests\n",
    "from sqlalchemy import create_engine\n",
    "from sqlalchemy.orm import sessionmaker"
   ]
  },
  {
   "cell_type": "code",
   "execution_count": null,
   "metadata": {
    "scrolled": true
   },
   "outputs": [],
   "source": [
    "%%bash\n",
    "\n",
    "pip3 list"
   ]
  },
  {
   "cell_type": "markdown",
   "metadata": {},
   "source": [
    "## Places (Geonames.org)"
   ]
  },
  {
   "cell_type": "code",
   "execution_count": 3,
   "metadata": {},
   "outputs": [
    {
     "name": "stdout",
     "output_type": "stream",
     "text": [
      "CPU times: user 1.4 s, sys: 655 ms, total: 2.05 s\n",
      "Wall time: 14.6 s\n"
     ]
    },
    {
     "data": {
      "text/plain": [
       "200"
      ]
     },
     "execution_count": 3,
     "metadata": {},
     "output_type": "execute_result"
    }
   ],
   "source": [
    "%%time\n",
    "\n",
    "places_uri = 'https://download.geonames.org/export/dump/US.zip'\n",
    "\n",
    "session = requests.Session()\n",
    "r = session.get(places_uri)\n",
    "r.raise_for_status()\n",
    "r.status_code"
   ]
  },
  {
   "cell_type": "code",
   "execution_count": 4,
   "metadata": {},
   "outputs": [],
   "source": [
    "with open('data/US-places.zip', 'wb') as fd:\n",
    "    for chunk in r.iter_content(chunk_size=128):\n",
    "        fd.write(chunk)\n",
    "with ZipFile('data/US-places.zip') as z:\n",
    "    z.extract('US.txt', path='data')"
   ]
  },
  {
   "cell_type": "code",
   "execution_count": 6,
   "metadata": {
    "scrolled": true
   },
   "outputs": [
    {
     "name": "stderr",
     "output_type": "stream",
     "text": [
      "/usr/local/lib/python3.7/dist-packages/IPython/core/magic.py:187: DtypeWarning: Columns (9) have mixed types.Specify dtype option on import or set low_memory=False.\n",
      "  call = lambda f, *a, **k: f(*a, **k)\n"
     ]
    },
    {
     "name": "stdout",
     "output_type": "stream",
     "text": [
      "CPU times: user 7.53 s, sys: 464 ms, total: 8 s\n",
      "Wall time: 7.99 s\n"
     ]
    },
    {
     "data": {
      "text/plain": [
       "(2237919, 17)"
      ]
     },
     "execution_count": 6,
     "metadata": {},
     "output_type": "execute_result"
    }
   ],
   "source": [
    "%%time\n",
    "\n",
    "header = ['geonameid', 'name', 'ascii_name'\n",
    "          , 'alternatenames', 'latitude', 'longitude'\n",
    "          , 'feature_class', 'feature_code', 'country_code'\n",
    "          , 'cc2', 'admin_code1', 'admin_code2'\n",
    "          , 'admin_code3', 'admin_code4', 'population'\n",
    "          , 'elevation', 'dem', 'timezone', 'modification_date'\n",
    "         ]\n",
    "\n",
    "places = pd.read_table('data/US.txt'\n",
    "                       , names=header\n",
    "                       , dtype={\n",
    "                           'admin_code1': str, 'admin_code2': str,\n",
    "                           'admin_code3': str, 'admin_code3': str}\n",
    "                      )\n",
    "places.drop(['admin_code4', 'ascii_name'], axis=1, inplace=True)\n",
    "places.shape"
   ]
  },
  {
   "cell_type": "code",
   "execution_count": null,
   "metadata": {},
   "outputs": [],
   "source": [
    "places.dtypes"
   ]
  },
  {
   "cell_type": "markdown",
   "metadata": {},
   "source": [
    "## Transpose Place Synonyms into Rows\n",
    "- Built in [explode](https://pandas.pydata.org/pandas-docs/stable/user_guide/reshaping.html#exploding-a-list-like-column) function"
   ]
  },
  {
   "cell_type": "code",
   "execution_count": 7,
   "metadata": {},
   "outputs": [
    {
     "name": "stdout",
     "output_type": "stream",
     "text": [
      "CPU times: user 2.95 s, sys: 320 ms, total: 3.27 s\n",
      "Wall time: 3.27 s\n"
     ]
    },
    {
     "data": {
      "text/plain": [
       "(986417, 17)"
      ]
     },
     "execution_count": 7,
     "metadata": {},
     "output_type": "execute_result"
    }
   ],
   "source": [
    "%%time\n",
    "\n",
    "# 347_209\n",
    "pivot = places.loc[~places.alternatenames.isna(), ['alternatenames']]  #.head(1000)\n",
    "pivot.shape\n",
    "\n",
    "# Split csv strings to iterable\n",
    "to_columns2 = pd.DataFrame(data=pivot.alternatenames.str.split(pat=',', expand=False)\n",
    "                          ,index=pivot.index)\n",
    "\n",
    "# Use built in explode (may be more efficient)\n",
    "to_rows2 = to_columns2.explode('alternatenames')\n",
    "\n",
    "places2 = to_rows2.join(places.drop(['name'], axis=1)\n",
    "                        , lsuffix='_tmp')\n",
    "\n",
    "places2['name'] = places2.alternatenames_tmp\n",
    "places2.drop(['alternatenames_tmp'], axis=1, inplace=True)\n",
    "\n",
    "places2.shape"
   ]
  },
  {
   "cell_type": "code",
   "execution_count": 32,
   "metadata": {},
   "outputs": [
    {
     "data": {
      "text/plain": [
       "(2908037, 17)"
      ]
     },
     "execution_count": 32,
     "metadata": {},
     "output_type": "execute_result"
    }
   ],
   "source": [
    "unity = places.append(places2).drop_duplicates()\n",
    "\n",
    "-- 2_912_531\n",
    "unity.shape"
   ]
  },
  {
   "cell_type": "code",
   "execution_count": 33,
   "metadata": {},
   "outputs": [],
   "source": [
    "unity.modification_date = (\n",
    "    unity.modification_date.str\n",
    "    .replace(pat='-', repl='', regex=False)\n",
    "    .astype(np.int32)\n",
    ")"
   ]
  },
  {
   "cell_type": "code",
   "execution_count": 34,
   "metadata": {},
   "outputs": [
    {
     "data": {
      "text/plain": [
       "geonameid              int64\n",
       "name                  object\n",
       "alternatenames        object\n",
       "latitude             float64\n",
       "longitude            float64\n",
       "feature_class         object\n",
       "feature_code          object\n",
       "country_code          object\n",
       "cc2                   object\n",
       "admin_code1           object\n",
       "admin_code2           object\n",
       "admin_code3           object\n",
       "population             int64\n",
       "elevation            float64\n",
       "dem                    int64\n",
       "timezone              object\n",
       "modification_date      int32\n",
       "dtype: object"
      ]
     },
     "execution_count": 34,
     "metadata": {},
     "output_type": "execute_result"
    }
   ],
   "source": [
    "unity.dtypes"
   ]
  },
  {
   "cell_type": "markdown",
   "metadata": {},
   "source": [
    "## Postal Codes (Geonames.org)\n",
    "- Geonames' [zip codes](http://download.geonames.org/export/zip/US.zip)"
   ]
  },
  {
   "cell_type": "code",
   "execution_count": null,
   "metadata": {},
   "outputs": [],
   "source": [
    "%%time\n",
    "\n",
    "zip_uri = 'http://download.geonames.org/export/zip/US.zip'\n",
    "\n",
    "session = requests.Session()\n",
    "\n",
    "r = session.get(zip_uri)\n",
    "r.raise_for_status()\n",
    "\n",
    "r.status_code"
   ]
  },
  {
   "cell_type": "code",
   "execution_count": null,
   "metadata": {},
   "outputs": [],
   "source": [
    "with open('data/US.zip', 'wb') as fd:\n",
    "    for chunk in r.iter_content(chunk_size=128):\n",
    "        fd.write(chunk)\n",
    "with ZipFile('data/US.zip') as z:\n",
    "    z.extract('US.txt', path='data')"
   ]
  },
  {
   "cell_type": "code",
   "execution_count": null,
   "metadata": {},
   "outputs": [],
   "source": [
    "%%time\n",
    "\n",
    "header = ['country_code', 'postal_code', 'place_name',\n",
    "          'admin_name1', 'admin_code1', 'admin_name2',\n",
    "          'admin_code2', 'admin_name3', 'admin_code3',\n",
    "          'latitude', 'longitude', 'accuracy']\n",
    "\n",
    "zips = pd.read_table('data/US.txt', names=header, \n",
    "                     dtype={'postal_code': str, 'admin_code2': str, \n",
    "                            'admin_code3': str, 'accuracy': str})\n",
    "zips.shape"
   ]
  },
  {
   "cell_type": "code",
   "execution_count": null,
   "metadata": {},
   "outputs": [],
   "source": [
    "zips.dtypes"
   ]
  },
  {
   "cell_type": "markdown",
   "metadata": {},
   "source": [
    "### Use RegEx to Cleanse Pattern `Mc *`"
   ]
  },
  {
   "cell_type": "code",
   "execution_count": null,
   "metadata": {},
   "outputs": [],
   "source": [
    "cleanse_1 = re.compile(pattern=r'\\sMc\\s')\n",
    "cleanse_2 = re.compile(pattern=r'^Mc\\s')\n",
    "\n",
    "zips.loc[\n",
    "    zips.place_name.str.contains(pat=cleanse_1)\n",
    "    , ['place_name']] = zips.place_name.str.replace(pat=cleanse_1, repl=' Mc')\n",
    "\n",
    "zips.loc[\n",
    "    zips.place_name.str.contains(pat=cleanse_2)\n",
    "    , ['place_name']] = zips.place_name.str.replace(pat=cleanse_2, repl='Mc')"
   ]
  },
  {
   "cell_type": "code",
   "execution_count": null,
   "metadata": {
    "scrolled": false
   },
   "outputs": [],
   "source": [
    "zips.loc[zips.place_name.str.startswith('Mc')]"
   ]
  },
  {
   "cell_type": "code",
   "execution_count": null,
   "metadata": {
    "scrolled": true
   },
   "outputs": [],
   "source": [
    "zips.loc[~zips.admin_code3.isna()]"
   ]
  },
  {
   "cell_type": "markdown",
   "metadata": {},
   "source": [
    "## Write to SQL DB"
   ]
  },
  {
   "cell_type": "code",
   "execution_count": null,
   "metadata": {},
   "outputs": [],
   "source": [
    "driver = environ.get('SQL_DRIVER', '{ODBC Driver 17 for SQL Server}')\n",
    "host = environ.get('SQL_HOST', 'sql-geonames')\n",
    "db = environ.get('SQL_DB', 'ScratchDB')\n",
    "user = environ.get('SQL_USER', 'sa')\n",
    "pw = environ.get('SQL_PASSWORD', 'HelloWorld1')\n",
    "con_str = f'DRIVER={driver};SERVER={host};DATABASE={db};UID={user};PWD={pw}'\n",
    "\n",
    "params = urllib.parse.quote_plus(con_str)\n",
    "sql_engine = create_engine(f\"mssql+pyodbc:///?odbc_connect={params}\"\n",
    "                           , echo=True) # echo's emitted sql"
   ]
  },
  {
   "cell_type": "code",
   "execution_count": null,
   "metadata": {},
   "outputs": [],
   "source": [
    "created = datetime.now()\n",
    "createdby = 'bshGeonamesToADLS'\n",
    "\n",
    "zips['CreatedDateTime'] = created\n",
    "zips['RecCreatedBy'] = createdby\n",
    "\n",
    "unity['CreatedDateTime'] = created\n",
    "unity['RecCreatedBy'] = createdby"
   ]
  },
  {
   "cell_type": "code",
   "execution_count": null,
   "metadata": {
    "scrolled": true
   },
   "outputs": [],
   "source": [
    "%%time\n",
    "\n",
    "with sql_engine.connect() as c:\n",
    "    zips.to_sql(name='ZipCode', con=c, schema='Staging', if_exists='append', index=False)\n",
    "    unity.to_sql(name='GeoPlace', con=c, schema='Staging', if_exists='append', index=False)"
   ]
  },
  {
   "cell_type": "markdown",
   "metadata": {},
   "source": [
    "## Save to parquet format with snappy compression"
   ]
  },
  {
   "cell_type": "code",
   "execution_count": null,
   "metadata": {},
   "outputs": [],
   "source": [
    "%%time\n",
    "\n",
    "zips.to_parquet(path='data/zipcodes.parquet', engine='fastparquet'\n",
    "                , compression='snappy')\n",
    "places.to_parquet(path='data/geoplaces.parquet', engine='fastparquet'\n",
    "                  , compression='snappy')"
   ]
  }
 ],
 "metadata": {
  "kernelspec": {
   "display_name": "Python 3",
   "language": "python",
   "name": "python3"
  },
  "language_info": {
   "codemirror_mode": {
    "name": "ipython",
    "version": 3
   },
   "file_extension": ".py",
   "mimetype": "text/x-python",
   "name": "python",
   "nbconvert_exporter": "python",
   "pygments_lexer": "ipython3",
   "version": "3.7.5"
  }
 },
 "nbformat": 4,
 "nbformat_minor": 4
}
