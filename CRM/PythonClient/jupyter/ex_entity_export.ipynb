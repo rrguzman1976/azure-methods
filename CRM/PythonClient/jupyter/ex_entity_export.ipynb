{
 "cells": [
  {
   "cell_type": "code",
   "execution_count": 6,
   "metadata": {},
   "outputs": [],
   "source": [
    "import csv\n",
    "\n",
    "import pandas as pd\n",
    "\n",
    "from client.api.ci import (\n",
    "    get_instances, get_entity\n",
    ")"
   ]
  },
  {
   "cell_type": "code",
   "execution_count": 17,
   "metadata": {},
   "outputs": [],
   "source": [
    "%%bash\n",
    "\n",
    "rm export/customer.csv"
   ]
  },
  {
   "cell_type": "markdown",
   "metadata": {},
   "source": [
    "## Get entity attributes from Customer Insights\n",
    "- Export to csv"
   ]
  },
  {
   "cell_type": "code",
   "execution_count": null,
   "metadata": {},
   "outputs": [],
   "source": [
    "entities = [\n",
    "    \"Customer\",\n",
    "    \"Dynamics365_PatientPhysician\",\n",
    "    \"Dynamics365_PatientCensus\",\n",
    "    \"Dynamics365_PatientAllergy\",\n",
    "    \"Dynamics365_PatientAppointment\",\n",
    "    \"Dynamics365_PatientMedication\",\n",
    "    \"Dynamics365_Patient\",\n",
    "    \"FrameworkLTC_FrameworkPatient\",\n",
    "    \"FrameworkLTC_FrameworkRxOrder\",\n",
    "    \"FrameworkLTC_RxOrderCompare\",\n",
    "]\n",
    "\n",
    "for e in entities:\n",
    "    with open(f'export/{e}.csv', 'w') as f:\n",
    "        \n",
    "        entity = get_entity(name=\"Customer\")\n",
    "        \n",
    "        fields = ['name', 'friendlyName', 'baseName', 'dataType', 'semanticType']\n",
    "\n",
    "        writer = csv.DictWriter(f, fieldnames=fields)\n",
    "        writer.writeheader()\n",
    "\n",
    "        for a in entity['attributes']:\n",
    "            subset = {k: a[k] for k in fields}\n",
    "            writer.writerow(subset)"
   ]
  }
 ],
 "metadata": {
  "kernelspec": {
   "display_name": "Python 3",
   "language": "python",
   "name": "python3"
  },
  "language_info": {
   "codemirror_mode": {
    "name": "ipython",
    "version": 3
   },
   "file_extension": ".py",
   "mimetype": "text/x-python",
   "name": "python",
   "nbconvert_exporter": "python",
   "pygments_lexer": "ipython3",
   "version": "3.7.5"
  }
 },
 "nbformat": 4,
 "nbformat_minor": 4
}
