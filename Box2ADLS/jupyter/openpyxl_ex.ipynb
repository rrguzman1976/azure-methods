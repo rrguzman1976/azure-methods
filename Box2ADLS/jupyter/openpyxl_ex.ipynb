{
 "cells": [
  {
   "cell_type": "code",
   "execution_count": 1,
   "metadata": {},
   "outputs": [],
   "source": [
    "from openpyxl import load_workbook\n",
    "from openpyxl.worksheet.worksheet import Worksheet"
   ]
  },
  {
   "cell_type": "markdown",
   "metadata": {},
   "source": [
    "# Examples demonstrating openpyxl to manipulate Excel"
   ]
  },
  {
   "cell_type": "code",
   "execution_count": 6,
   "metadata": {},
   "outputs": [
    {
     "name": "stdout",
     "output_type": "stream",
     "text": [
      "total 360\n",
      "drwxrwxrwx 2 1000 1000   4096 Oct  8 15:31 .\n",
      "drwxrwxrwx 4 1000 1000   4096 Oct  8 15:49 ..\n",
      "-rwxrwxrwx 1 1000 1000  95670 Aug 25 14:02 Branch Scheduled Hours Breakdown_08_24_2020.xlsx\n",
      "-rwxr-xr-x 1 1000 1000  94525 Oct  8 15:31 Branch Scheduled Hours Breakdown_10_08_2020.xlsx\n",
      "-rwxrwxrwx 1 1000 1000 161437 Aug 25 14:02 Telephony Usage By Branch 08.21.2020.xlsx\n"
     ]
    }
   ],
   "source": [
    "%%bash\n",
    "\n",
    "ls -al data/\n",
    "# python3 -m pip list"
   ]
  },
  {
   "cell_type": "markdown",
   "metadata": {},
   "source": [
    "### Rename Tab"
   ]
  },
  {
   "cell_type": "code",
   "execution_count": 14,
   "metadata": {},
   "outputs": [],
   "source": [
    "wb = load_workbook(filename = 'data/Branch Scheduled Hours Breakdown_10_08_2020.xlsx',\n",
    "                   data_only=True)\n"
   ]
  },
  {
   "cell_type": "code",
   "execution_count": 15,
   "metadata": {},
   "outputs": [
    {
     "data": {
      "text/plain": [
       "['September', 'October', 'November']"
      ]
     },
     "execution_count": 15,
     "metadata": {},
     "output_type": "execute_result"
    }
   ],
   "source": [
    "wb.sheetnames"
   ]
  },
  {
   "cell_type": "code",
   "execution_count": 16,
   "metadata": {},
   "outputs": [
    {
     "data": {
      "text/plain": [
       "'October'"
      ]
     },
     "execution_count": 16,
     "metadata": {},
     "output_type": "execute_result"
    }
   ],
   "source": [
    "current_ws = wb['October']\n",
    "\n",
    "current_ws.title"
   ]
  },
  {
   "cell_type": "code",
   "execution_count": 17,
   "metadata": {},
   "outputs": [
    {
     "data": {
      "text/plain": [
       "'CurrentMonth'"
      ]
     },
     "execution_count": 17,
     "metadata": {},
     "output_type": "execute_result"
    }
   ],
   "source": [
    "current_ws.title = 'CurrentMonth'\n",
    "\n",
    "current_ws.title"
   ]
  },
  {
   "cell_type": "code",
   "execution_count": 18,
   "metadata": {},
   "outputs": [],
   "source": [
    "wb.save(filename='data/Branch Scheduled Hours Breakdown_DATA_ONLY.xlsx')"
   ]
  },
  {
   "cell_type": "markdown",
   "metadata": {},
   "source": [
    "### Unhide Tab"
   ]
  },
  {
   "cell_type": "code",
   "execution_count": 16,
   "metadata": {},
   "outputs": [],
   "source": [
    "wb2 = load_workbook(filename = 'data/Telephony Usage By Branch 10.08.2020.xlsx',\n",
    "                    data_only=True)"
   ]
  },
  {
   "cell_type": "code",
   "execution_count": 20,
   "metadata": {},
   "outputs": [
    {
     "data": {
      "text/plain": [
       "'2020 Tele Stats'"
      ]
     },
     "execution_count": 20,
     "metadata": {},
     "output_type": "execute_result"
    }
   ],
   "source": [
    "current_ws2 = wb2['2020 Tele Stats']\n",
    "\n",
    "current_ws2.title"
   ]
  },
  {
   "cell_type": "code",
   "execution_count": 27,
   "metadata": {},
   "outputs": [],
   "source": [
    "current_ws2.title = 'Tele Stats'\n",
    "current_ws2.sheet_state = Worksheet.SHEETSTATE_VISIBLE"
   ]
  },
  {
   "cell_type": "code",
   "execution_count": 28,
   "metadata": {},
   "outputs": [],
   "source": [
    "wb2.save(filename='data/Telephony Usage By Branch_OUT2.xlsx')"
   ]
  }
 ],
 "metadata": {
  "kernelspec": {
   "display_name": "Python 3",
   "language": "python",
   "name": "python3"
  },
  "language_info": {
   "codemirror_mode": {
    "name": "ipython",
    "version": 3
   },
   "file_extension": ".py",
   "mimetype": "text/x-python",
   "name": "python",
   "nbconvert_exporter": "python",
   "pygments_lexer": "ipython3",
   "version": "3.7.5"
  }
 },
 "nbformat": 4,
 "nbformat_minor": 4
}
