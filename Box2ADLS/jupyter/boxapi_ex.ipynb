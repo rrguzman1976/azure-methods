{
 "cells": [
  {
   "cell_type": "code",
   "execution_count": null,
   "metadata": {},
   "outputs": [],
   "source": [
    "\n",
    "from box2adls import (BOX_PATH, BOX_PATH2)\n",
    "from box2adls.auth.box_jwt import auth_jwt"
   ]
  },
  {
   "cell_type": "markdown",
   "metadata": {},
   "source": [
    "## Box API Examples\n",
    "- REST API [Reference](https://developer.box.com/reference/)\n",
    "- Python API [Reference](https://box-python-sdk.readthedocs.io/en/stable/boxsdk.html)"
   ]
  },
  {
   "cell_type": "markdown",
   "metadata": {},
   "source": [
    "### Authenticate\n",
    "- Uses OAuth2 via JWT token"
   ]
  },
  {
   "cell_type": "code",
   "execution_count": null,
   "metadata": {},
   "outputs": [],
   "source": [
    "box_client = auth_jwt(box_config='../config/my_config.json')\n",
    "box_root = box_client.folder('0').get()"
   ]
  },
  {
   "cell_type": "markdown",
   "metadata": {},
   "source": [
    "### Fuzzy Search\n",
    "- [Docs](https://developer.box.com/reference/get-search/)"
   ]
  },
  {
   "cell_type": "code",
   "execution_count": null,
   "metadata": {},
   "outputs": [],
   "source": [
    "folders = BOX_PATH.split('/')[-1::-1]\n",
    "parent = navigate(box_root, folders)\n",
    "\n",
    "items = box_client.search().query(query='Branch Scheduled Hours Breakdown', \n",
    "                                  limit=100,\n",
    "                                  ancestor_folders=[parent],\n",
    "                                  file_extensions=['xlsx'], \n",
    "                                  result_type='file',\n",
    "                                  content_types=['name'])\n",
    "\n",
    "for f in items:\n",
    "    if f.type == 'file' and f.name == 'Branch Scheduled Hours Breakdown_11_14_2020.xlsx':\n",
    "        print(f.name)"
   ]
  },
  {
   "cell_type": "markdown",
   "metadata": {},
   "source": [
    "### Exact Search\n",
    "- Recommended approach due to [idiosyncracies](https://developer.box.com/guides/search/#comparison-to-metadata-queries) \n",
    "with Fuzzy Searches"
   ]
  },
  {
   "cell_type": "code",
   "execution_count": null,
   "metadata": {},
   "outputs": [],
   "source": [
    "folders = BOX_PATH2.split('/')[-1::-1]\n",
    "parent = navigate(box_root, folders)\n",
    "\n",
    "for f in parent.get_items():\n",
    "    if f.type == 'file' and f.name == 'Telephony Usage By Branch 11.13.2020.xlsx':\n",
    "        print(f.name)"
   ]
  }
 ],
 "metadata": {
  "kernelspec": {
   "display_name": "Python 3",
   "language": "python",
   "name": "python3"
  },
  "language_info": {
   "codemirror_mode": {
    "name": "ipython",
    "version": 3
   },
   "file_extension": ".py",
   "mimetype": "text/x-python",
   "name": "python",
   "nbconvert_exporter": "python",
   "pygments_lexer": "ipython3",
   "version": "3.7.5"
  }
 },
 "nbformat": 4,
 "nbformat_minor": 4
}
